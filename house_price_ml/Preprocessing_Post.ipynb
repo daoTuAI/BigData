{
 "cells": [
  {
   "cell_type": "code",
   "execution_count": 1,
   "id": "4a15647a-0844-4d2b-937d-ee608ee67f09",
   "metadata": {},
   "outputs": [],
   "source": [
    "from pyspark.sql import SparkSession \n",
    "from pyspark.sql.functions import col, udf, split, mean\n",
    "from pyspark.sql import Row, DataFrame\n",
    "\n",
    "from pyspark.sql.types import *\n",
    "from pyspark.sql.functions import from_json, udf\n",
    "import pandas as pd\n",
    "from ast import literal_eval\n",
    "import re\n",
    "\n",
    "import pandas as pd\n",
    "import requests\n",
    "\n",
    "def hpml1(df):\n",
    "    df1 = df.withColumn('area', col('area').cast('double')) \\\n",
    "        .withColumn('price', col('price').cast('double')) \\\n",
    "        .withColumn('bedroom', col('bedroom').cast('double'))\n",
    "        \n",
    "    return df1\n",
    "\n",
    "def hpml2(df):\n",
    "    df1=df.filter(\"area>0\").filter(\"price>0\").filter(\"bedroom>0\").filter(\"area<500\").filter(\"price<20\")\n",
    "    return df1\n",
    "\n",
    "def extract_data():\n",
    "    packages = [\"org.apache.spark:spark-streaming-kafka-0-10_2.12:3.1.2\",\n",
    "            \"org.apache.spark:spark-sql-kafka-0-10_2.12:3.1.2\"]\n",
    "    packages = \",\".join(packages)\n",
    "\n",
    "    master = \"spark://spark-master:7077\"\n",
    "    # master = \"spark://spark-master:7077\"\n",
    "    appName = \"sparkTest\"\n",
    "\n",
    "    sparkSs = SparkSession.builder \\\n",
    "                        .master(master) \\\n",
    "                        .appName(appName) \\\n",
    "                        .config(\"spark.jars.packages\", packages) \\\n",
    "                        .config(\"spark.executor.memory\", \"512m\") \\\n",
    "                        .config(\"spark.executor.core\", \"1\") \\\n",
    "                        .getOrCreate()\n",
    "    \n",
    "    return sparkSs\n",
    "\n",
    "def transform_data(sparkSs):\n",
    "    schema = StructType() \\\n",
    "        .add(\"name\", StringType()) \\\n",
    "        .add(\"address\", StringType()) \\\n",
    "        .add(\"city\", StringType()) \\\n",
    "        .add(\"district\", StringType()) \\\n",
    "        .add(\"area\", StringType()) \\\n",
    "        .add(\"bedroom\", StringType()) \\\n",
    "        .add(\"investor\", StringType()) \\\n",
    "        .add(\"price\", StringType()) \n",
    "\n",
    "    df = sparkSs \\\n",
    "        .readStream \\\n",
    "        .format(\"kafka\") \\\n",
    "        .option(\"kafka.bootstrap.servers\", \"kafka:9093, kafka1:9093\") \\\n",
    "        .option(\"subscribe\", \"post\") \\\n",
    "        .option(\"startingOffsets\", \"earliest\") \\\n",
    "        .option(\"failOnDataLoss\", \"false\") \\\n",
    "        .load()\\\n",
    "        .select(from_json(col(\"value\").cast(\"string\"), schema).alias(\"parsed_value\"))\n",
    "    \n",
    "    df1 = df.select(\"parsed_value.*\")\n",
    "    df2 = hpml1(df1)\n",
    "    df3 = hpml2(df2)\n",
    "   \n",
    "    return df3\n",
    "    \n",
    "def load_data(df):\n",
    "    df.writeStream \\\n",
    "        .format(\"console\") \\\n",
    "        .outputMode(\"append\") \\\n",
    "        .start() \\\n",
    "        .awaitTermination()"
   ]
  },
  {
   "cell_type": "code",
   "execution_count": 2,
   "id": "edfee820-e1c4-4c9a-a294-a2dcf36cffae",
   "metadata": {},
   "outputs": [
    {
     "name": "stdout",
     "output_type": "stream",
     "text": [
      ":: loading settings :: url = jar:file:/usr/bin/spark-3.1.2-bin-hadoop2.7/jars/ivy-2.4.0.jar!/org/apache/ivy/core/settings/ivysettings.xml\n"
     ]
    },
    {
     "name": "stderr",
     "output_type": "stream",
     "text": [
      "Ivy Default Cache set to: /root/.ivy2/cache\n",
      "The jars for the packages stored in: /root/.ivy2/jars\n",
      "org.apache.spark#spark-streaming-kafka-0-10_2.12 added as a dependency\n",
      "org.apache.spark#spark-sql-kafka-0-10_2.12 added as a dependency\n",
      ":: resolving dependencies :: org.apache.spark#spark-submit-parent-761a08f6-6a01-4be0-b21b-efadbbd68a64;1.0\n",
      "\tconfs: [default]\n",
      "\tfound org.apache.spark#spark-streaming-kafka-0-10_2.12;3.1.2 in central\n",
      "\tfound org.apache.spark#spark-token-provider-kafka-0-10_2.12;3.1.2 in central\n",
      "\tfound org.apache.kafka#kafka-clients;2.6.0 in central\n",
      "\tfound com.github.luben#zstd-jni;1.4.8-1 in central\n",
      "\tfound org.lz4#lz4-java;1.7.1 in central\n",
      "\tfound org.xerial.snappy#snappy-java;1.1.8.2 in central\n",
      "\tfound org.slf4j#slf4j-api;1.7.30 in central\n",
      "\tfound org.spark-project.spark#unused;1.0.0 in central\n",
      "\tfound org.apache.spark#spark-sql-kafka-0-10_2.12;3.1.2 in central\n",
      "\tfound org.apache.commons#commons-pool2;2.6.2 in central\n",
      "downloading https://repo1.maven.org/maven2/org/apache/spark/spark-streaming-kafka-0-10_2.12/3.1.2/spark-streaming-kafka-0-10_2.12-3.1.2.jar ...\n",
      "\t[SUCCESSFUL ] org.apache.spark#spark-streaming-kafka-0-10_2.12;3.1.2!spark-streaming-kafka-0-10_2.12.jar (548ms)\n",
      "downloading https://repo1.maven.org/maven2/org/apache/spark/spark-sql-kafka-0-10_2.12/3.1.2/spark-sql-kafka-0-10_2.12-3.1.2.jar ...\n",
      "\t[SUCCESSFUL ] org.apache.spark#spark-sql-kafka-0-10_2.12;3.1.2!spark-sql-kafka-0-10_2.12.jar (1008ms)\n",
      "downloading https://repo1.maven.org/maven2/org/apache/spark/spark-token-provider-kafka-0-10_2.12/3.1.2/spark-token-provider-kafka-0-10_2.12-3.1.2.jar ...\n",
      "\t[SUCCESSFUL ] org.apache.spark#spark-token-provider-kafka-0-10_2.12;3.1.2!spark-token-provider-kafka-0-10_2.12.jar (324ms)\n",
      "downloading https://repo1.maven.org/maven2/org/apache/kafka/kafka-clients/2.6.0/kafka-clients-2.6.0.jar ...\n",
      "\t[SUCCESSFUL ] org.apache.kafka#kafka-clients;2.6.0!kafka-clients.jar (6709ms)\n",
      "downloading https://repo1.maven.org/maven2/org/spark-project/spark/unused/1.0.0/unused-1.0.0.jar ...\n",
      "\t[SUCCESSFUL ] org.spark-project.spark#unused;1.0.0!unused.jar (235ms)\n",
      "downloading https://repo1.maven.org/maven2/com/github/luben/zstd-jni/1.4.8-1/zstd-jni-1.4.8-1.jar ...\n",
      "\t[SUCCESSFUL ] com.github.luben#zstd-jni;1.4.8-1!zstd-jni.jar (11817ms)\n",
      "downloading https://repo1.maven.org/maven2/org/lz4/lz4-java/1.7.1/lz4-java-1.7.1.jar ...\n",
      "\t[SUCCESSFUL ] org.lz4#lz4-java;1.7.1!lz4-java.jar (1096ms)\n",
      "downloading https://repo1.maven.org/maven2/org/xerial/snappy/snappy-java/1.1.8.2/snappy-java-1.1.8.2.jar ...\n",
      "\t[SUCCESSFUL ] org.xerial.snappy#snappy-java;1.1.8.2!snappy-java.jar(bundle) (4165ms)\n",
      "downloading https://repo1.maven.org/maven2/org/slf4j/slf4j-api/1.7.30/slf4j-api-1.7.30.jar ...\n",
      "\t[SUCCESSFUL ] org.slf4j#slf4j-api;1.7.30!slf4j-api.jar (1214ms)\n",
      "downloading https://repo1.maven.org/maven2/org/apache/commons/commons-pool2/2.6.2/commons-pool2-2.6.2.jar ...\n",
      "\t[SUCCESSFUL ] org.apache.commons#commons-pool2;2.6.2!commons-pool2.jar (563ms)\n",
      ":: resolution report :: resolve 29290ms :: artifacts dl 27726ms\n",
      "\t:: modules in use:\n",
      "\tcom.github.luben#zstd-jni;1.4.8-1 from central in [default]\n",
      "\torg.apache.commons#commons-pool2;2.6.2 from central in [default]\n",
      "\torg.apache.kafka#kafka-clients;2.6.0 from central in [default]\n",
      "\torg.apache.spark#spark-sql-kafka-0-10_2.12;3.1.2 from central in [default]\n",
      "\torg.apache.spark#spark-streaming-kafka-0-10_2.12;3.1.2 from central in [default]\n",
      "\torg.apache.spark#spark-token-provider-kafka-0-10_2.12;3.1.2 from central in [default]\n",
      "\torg.lz4#lz4-java;1.7.1 from central in [default]\n",
      "\torg.slf4j#slf4j-api;1.7.30 from central in [default]\n",
      "\torg.spark-project.spark#unused;1.0.0 from central in [default]\n",
      "\torg.xerial.snappy#snappy-java;1.1.8.2 from central in [default]\n",
      "\t---------------------------------------------------------------------\n",
      "\t|                  |            modules            ||   artifacts   |\n",
      "\t|       conf       | number| search|dwnlded|evicted|| number|dwnlded|\n",
      "\t---------------------------------------------------------------------\n",
      "\t|      default     |   10  |   10  |   10  |   0   ||   10  |   10  |\n",
      "\t---------------------------------------------------------------------\n",
      ":: retrieving :: org.apache.spark#spark-submit-parent-761a08f6-6a01-4be0-b21b-efadbbd68a64\n",
      "\tconfs: [default]\n",
      "\t10 artifacts copied, 0 already retrieved (13222kB/99ms)\n",
      "22/01/03 03:36:40 WARN NativeCodeLoader: Unable to load native-hadoop library for your platform... using builtin-java classes where applicable\n",
      "Using Spark's default log4j profile: org/apache/spark/log4j-defaults.properties\n",
      "Setting default log level to \"WARN\".\n",
      "To adjust logging level use sc.setLogLevel(newLevel). For SparkR, use setLogLevel(newLevel).\n"
     ]
    },
    {
     "data": {
      "text/html": [
       "\n",
       "            <div>\n",
       "                <p><b>SparkSession - in-memory</b></p>\n",
       "                \n",
       "        <div>\n",
       "            <p><b>SparkContext</b></p>\n",
       "\n",
       "            <p><a href=\"http://010364f53e97:4040\">Spark UI</a></p>\n",
       "\n",
       "            <dl>\n",
       "              <dt>Version</dt>\n",
       "                <dd><code>v3.1.2</code></dd>\n",
       "              <dt>Master</dt>\n",
       "                <dd><code>spark://spark-master:7077</code></dd>\n",
       "              <dt>AppName</dt>\n",
       "                <dd><code>sparkTest</code></dd>\n",
       "            </dl>\n",
       "        </div>\n",
       "        \n",
       "            </div>\n",
       "        "
      ],
      "text/plain": [
       "<pyspark.sql.session.SparkSession at 0x7f520033b400>"
      ]
     },
     "execution_count": 2,
     "metadata": {},
     "output_type": "execute_result"
    }
   ],
   "source": [
    "spark = extract_data()\n",
    "spark"
   ]
  },
  {
   "cell_type": "code",
   "execution_count": 3,
   "id": "c993111c-e182-40fb-80d4-b622374b2ade",
   "metadata": {},
   "outputs": [],
   "source": [
    "data = transform_data(spark)"
   ]
  },
  {
   "cell_type": "code",
   "execution_count": 4,
   "id": "76c3f2fa-bde3-4fbd-9233-24aea3eb4bac",
   "metadata": {},
   "outputs": [
    {
     "name": "stdout",
     "output_type": "stream",
     "text": [
      "root\n",
      " |-- name: string (nullable = true)\n",
      " |-- address: string (nullable = true)\n",
      " |-- city: string (nullable = true)\n",
      " |-- district: string (nullable = true)\n",
      " |-- area: double (nullable = true)\n",
      " |-- bedroom: double (nullable = true)\n",
      " |-- investor: string (nullable = true)\n",
      " |-- price: double (nullable = true)\n",
      "\n"
     ]
    }
   ],
   "source": [
    "data.printSchema()"
   ]
  },
  {
   "cell_type": "code",
   "execution_count": 5,
   "id": "9e36236a-92a2-4086-ad27-232d3ec58c90",
   "metadata": {},
   "outputs": [
    {
     "data": {
      "text/plain": [
       "<pyspark.sql.streaming.StreamingQuery at 0x7f520034b5e0>"
      ]
     },
     "execution_count": 5,
     "metadata": {},
     "output_type": "execute_result"
    },
    {
     "name": "stderr",
     "output_type": "stream",
     "text": [
      "22/01/03 03:37:10 WARN KafkaOffsetReaderConsumer: Found incorrect offsets in some partitions (partition, previous offset, fetched offset): ArrayBuffer((post-0,344,20))\n",
      "22/01/03 03:37:10 WARN KafkaOffsetReaderConsumer: Retrying to fetch latest offsets because of incorrect offsets\n",
      "22/01/03 03:37:11 WARN KafkaOffsetReaderConsumer: Found incorrect offsets in some partitions (partition, previous offset, fetched offset): ArrayBuffer((post-0,344,20))\n",
      "22/01/03 03:37:11 WARN KafkaOffsetReaderConsumer: Retrying to fetch latest offsets because of incorrect offsets\n",
      "22/01/03 03:37:12 WARN KafkaOffsetReaderConsumer: Found incorrect offsets in some partitions (partition, previous offset, fetched offset): ArrayBuffer((post-0,344,20))\n",
      "22/01/03 03:37:13 WARN KafkaMicroBatchStream: Partition post-0's offset was changed from 344 to 20, some data may have been missed. \n",
      "Some data may have been lost because they are not available in Kafka any more; either the\n",
      " data was aged out by Kafka or the topic may have been deleted before all the data in the\n",
      " topic was processed. If you want your streaming query to fail on such cases, set the source\n",
      " option \"failOnDataLoss\" to \"true\".\n",
      "    \n",
      "22/01/03 03:37:13 WARN KafkaMicroBatchStream: Partition post-0's offset was changed from 344 to 20, some data may have been missed. \n",
      "Some data may have been lost because they are not available in Kafka any more; either the\n",
      " data was aged out by Kafka or the topic may have been deleted before all the data in the\n",
      " topic was processed. If you want your streaming query to fail on such cases, set the source\n",
      " option \"failOnDataLoss\" to \"true\".\n",
      "    \n",
      "22/01/03 03:37:13 WARN KafkaMicroBatchStream: Partition post-0's offset was changed from 344 to 20, some data may have been missed. \n",
      "Some data may have been lost because they are not available in Kafka any more; either the\n",
      " data was aged out by Kafka or the topic may have been deleted before all the data in the\n",
      " topic was processed. If you want your streaming query to fail on such cases, set the source\n",
      " option \"failOnDataLoss\" to \"true\".\n",
      "    \n",
      "22/01/03 03:37:13 WARN KafkaMicroBatchStream: Partition post-0's offset was changed from 344 to 20, some data may have been missed. \n",
      "Some data may have been lost because they are not available in Kafka any more; either the\n",
      " data was aged out by Kafka or the topic may have been deleted before all the data in the\n",
      " topic was processed. If you want your streaming query to fail on such cases, set the source\n",
      " option \"failOnDataLoss\" to \"true\".\n",
      "    \n",
      "22/01/03 03:37:13 WARN KafkaMicroBatchStream: Partition post-0's offset was changed from 344 to 20, some data may have been missed. \n",
      "Some data may have been lost because they are not available in Kafka any more; either the\n",
      " data was aged out by Kafka or the topic may have been deleted before all the data in the\n",
      " topic was processed. If you want your streaming query to fail on such cases, set the source\n",
      " option \"failOnDataLoss\" to \"true\".\n",
      "    \n",
      "22/01/03 03:37:13 WARN KafkaMicroBatchStream: Partition post-0's offset was changed from 344 to 20, some data may have been missed. \n",
      "Some data may have been lost because they are not available in Kafka any more; either the\n",
      " data was aged out by Kafka or the topic may have been deleted before all the data in the\n",
      " topic was processed. If you want your streaming query to fail on such cases, set the source\n",
      " option \"failOnDataLoss\" to \"true\".\n",
      "    \n",
      "[Stage 1:>                                                          (0 + 1) / 1]\r"
     ]
    }
   ],
   "source": [
    "from pyspark.sql.functions import udf, struct, to_json\n",
    "\n",
    "data.select(to_json(struct([data[x] for x in data.columns])).alias(\"value\")).select(\"value\") \\\n",
    "    .writeStream \\\n",
    "    .outputMode('append') \\\n",
    "    .format('kafka') \\\n",
    "    .option(\"kafka.bootstrap.servers\", \"kafka:9093,kafka1:9093\") \\\n",
    "    .option('topic', 'Preprocessing_Post') \\\n",
    "    .option('checkpointLocation', '/opt/workspace/tmp/kafka_checkpoint') \\\n",
    "    .start()"
   ]
  },
  {
   "cell_type": "code",
   "execution_count": null,
   "id": "f7aa7cbb-2011-415c-bbee-12df6e410c38",
   "metadata": {},
   "outputs": [],
   "source": []
  }
 ],
 "metadata": {
  "kernelspec": {
   "display_name": "Python 3 (ipykernel)",
   "language": "python",
   "name": "python3"
  },
  "language_info": {
   "codemirror_mode": {
    "name": "ipython",
    "version": 3
   },
   "file_extension": ".py",
   "mimetype": "text/x-python",
   "name": "python",
   "nbconvert_exporter": "python",
   "pygments_lexer": "ipython3",
   "version": "3.9.5"
  }
 },
 "nbformat": 4,
 "nbformat_minor": 5
}
